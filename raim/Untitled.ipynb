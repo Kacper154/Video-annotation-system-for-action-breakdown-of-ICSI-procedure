{
 "cells": [
  {
   "cell_type": "code",
   "execution_count": 15,
   "id": "fb172707-3d90-48fa-a8b1-e9cd1c4dde50",
   "metadata": {},
   "outputs": [
    {
     "name": "stdout",
     "output_type": "stream",
     "text": [
      "Name: ultralytics\n",
      "Version: 8.2.2\n",
      "Summary: Ultralytics YOLOv8 for SOTA object detection, multi-object tracking, instance segmentation, pose estimation and image classification.\n",
      "Home-page: \n",
      "Author: Glenn Jocher, Ayush Chaurasia, Jing Qiu\n",
      "Author-email: \n",
      "License: AGPL-3.0\n",
      "Location: /opt/anaconda3/lib/python3.11/site-packages\n",
      "Requires: matplotlib, opencv-python, pandas, pillow, psutil, py-cpuinfo, pyyaml, requests, scipy, seaborn, thop, torch, torchvision, tqdm\n",
      "Required-by: \n"
     ]
    }
   ],
   "source": [
    "!pip show ultralytics"
   ]
  },
  {
   "cell_type": "code",
   "execution_count": 18,
   "id": "6647a974-fab5-42ca-9ca7-dbecfb55e43a",
   "metadata": {},
   "outputs": [
    {
     "data": {
      "text/plain": [
       "'2.2.2'"
      ]
     },
     "execution_count": 18,
     "metadata": {},
     "output_type": "execute_result"
    }
   ],
   "source": [
    "import torch\n",
    "torch.__version__"
   ]
  },
  {
   "cell_type": "code",
   "execution_count": 3,
   "id": "a2f79844-6e74-428c-a59b-5c262ed4c5f7",
   "metadata": {},
   "outputs": [
    {
     "name": "stdout",
     "output_type": "stream",
     "text": [
      "Ultralytics YOLOv8.2.2 🚀 Python-3.11.7 torch-2.2.2 CPU (Intel Core(TM) i7-4770HQ 2.20GHz)\n",
      "YOLOv8n summary (fused): 168 layers, 3151904 parameters, 0 gradients, 8.7 GFLOPs\n",
      "\n",
      "image 1/1 /Users/kacper/PycharmProjects/raim/images/dogo.jpg: 640x640 1 dog, 117.5ms\n",
      "Speed: 6.3ms preprocess, 117.5ms inference, 905.9ms postprocess per image at shape (1, 3, 640, 640)\n",
      "Results saved to \u001b[1mruns/detect/predict4\u001b[0m\n",
      "💡 Learn more at https://docs.ultralytics.com/modes/predict\n"
     ]
    }
   ],
   "source": [
    "!yolo task=detect mode=predict model=yolov8n.pt source=\"images/dogo.jpg\""
   ]
  },
  {
   "cell_type": "code",
   "execution_count": 2,
   "id": "82156825-8bb6-47d5-b314-92bbb8e3993d",
   "metadata": {},
   "outputs": [
    {
     "name": "stdout",
     "output_type": "stream",
     "text": [
      "Ultralytics YOLOv8.2.2 🚀 Python-3.11.7 torch-2.2.2 CPU (Intel Core(TM) i7-4770HQ 2.20GHz)\n",
      "YOLOv8n-seg summary (fused): 195 layers, 3404320 parameters, 0 gradients, 12.6 GFLOPs\n",
      "\n",
      "image 1/1 /Users/kacper/PycharmProjects/raim/images/dogo.jpg: 640x640 1 dog, 167.8ms\n",
      "Speed: 6.9ms preprocess, 167.8ms inference, 1093.6ms postprocess per image at shape (1, 3, 640, 640)\n",
      "Results saved to \u001b[1mruns/segment/predict4\u001b[0m\n",
      "💡 Learn more at https://docs.ultralytics.com/modes/predict\n"
     ]
    }
   ],
   "source": [
    "!yolo task=segment mode=predict model=yolov8n-seg.pt source=\"images/dogo.jpg\""
   ]
  },
  {
   "cell_type": "code",
   "execution_count": 2,
   "id": "33511c8e-0905-4cab-885e-c3b72cc70188",
   "metadata": {},
   "outputs": [
    {
     "name": "stdout",
     "output_type": "stream",
     "text": [
      "\n",
      "image 1/1 /Users/kacper/PycharmProjects/raim/images/dog.JPG: 448x640 1 horse, 121.1ms\n",
      "Speed: 2.7ms preprocess, 121.1ms inference, 1418.8ms postprocess per image at shape (1, 3, 448, 640)\n"
     ]
    },
    {
     "data": {
      "text/plain": [
       "[ultralytics.engine.results.Results object with attributes:\n",
       " \n",
       " boxes: ultralytics.engine.results.Boxes object\n",
       " keypoints: None\n",
       " masks: ultralytics.engine.results.Masks object\n",
       " names: {0: 'person', 1: 'bicycle', 2: 'car', 3: 'motorcycle', 4: 'airplane', 5: 'bus', 6: 'train', 7: 'truck', 8: 'boat', 9: 'traffic light', 10: 'fire hydrant', 11: 'stop sign', 12: 'parking meter', 13: 'bench', 14: 'bird', 15: 'cat', 16: 'dog', 17: 'horse', 18: 'sheep', 19: 'cow', 20: 'elephant', 21: 'bear', 22: 'zebra', 23: 'giraffe', 24: 'backpack', 25: 'umbrella', 26: 'handbag', 27: 'tie', 28: 'suitcase', 29: 'frisbee', 30: 'skis', 31: 'snowboard', 32: 'sports ball', 33: 'kite', 34: 'baseball bat', 35: 'baseball glove', 36: 'skateboard', 37: 'surfboard', 38: 'tennis racket', 39: 'bottle', 40: 'wine glass', 41: 'cup', 42: 'fork', 43: 'knife', 44: 'spoon', 45: 'bowl', 46: 'banana', 47: 'apple', 48: 'sandwich', 49: 'orange', 50: 'broccoli', 51: 'carrot', 52: 'hot dog', 53: 'pizza', 54: 'donut', 55: 'cake', 56: 'chair', 57: 'couch', 58: 'potted plant', 59: 'bed', 60: 'dining table', 61: 'toilet', 62: 'tv', 63: 'laptop', 64: 'mouse', 65: 'remote', 66: 'keyboard', 67: 'cell phone', 68: 'microwave', 69: 'oven', 70: 'toaster', 71: 'sink', 72: 'refrigerator', 73: 'book', 74: 'clock', 75: 'vase', 76: 'scissors', 77: 'teddy bear', 78: 'hair drier', 79: 'toothbrush'}\n",
       " obb: None\n",
       " orig_img: array([[[238, 223, 220],\n",
       "         [237, 222, 219],\n",
       "         [238, 223, 220],\n",
       "         ...,\n",
       "         [255, 241, 238],\n",
       "         [255, 240, 238],\n",
       "         [254, 239, 237]],\n",
       " \n",
       "        [[232, 217, 214],\n",
       "         [232, 217, 214],\n",
       "         [234, 219, 216],\n",
       "         ...,\n",
       "         [254, 239, 236],\n",
       "         [254, 239, 237],\n",
       "         [254, 239, 237]],\n",
       " \n",
       "        [[224, 212, 208],\n",
       "         [226, 214, 210],\n",
       "         [230, 215, 212],\n",
       "         ...,\n",
       "         [254, 239, 236],\n",
       "         [254, 239, 237],\n",
       "         [255, 240, 238]],\n",
       " \n",
       "        ...,\n",
       " \n",
       "        [[ 83, 129, 117],\n",
       "         [ 71, 119, 107],\n",
       "         [ 87, 134, 126],\n",
       "         ...,\n",
       "         [ 67, 105, 105],\n",
       "         [ 82, 127, 124],\n",
       "         [ 98, 145, 142]],\n",
       " \n",
       "        [[ 86, 129, 118],\n",
       "         [ 73, 118, 109],\n",
       "         [ 93, 137, 130],\n",
       "         ...,\n",
       "         [ 70, 108, 108],\n",
       "         [ 75, 119, 118],\n",
       "         [ 81, 128, 125]],\n",
       " \n",
       "        [[102, 143, 135],\n",
       "         [ 89, 132, 123],\n",
       "         [ 96, 138, 131],\n",
       "         ...,\n",
       "         [ 83, 123, 122],\n",
       "         [ 76, 120, 119],\n",
       "         [ 64, 111, 108]]], dtype=uint8)\n",
       " orig_shape: (1125, 1688)\n",
       " path: '/Users/kacper/PycharmProjects/raim/images/dog.JPG'\n",
       " probs: None\n",
       " save_dir: 'runs/segment/predict3'\n",
       " speed: {'preprocess': 2.6979446411132812, 'inference': 121.08182907104492, 'postprocess': 1418.846845626831}]"
      ]
     },
     "execution_count": 2,
     "metadata": {},
     "output_type": "execute_result"
    }
   ],
   "source": [
    "from ultralytics import YOLO\n",
    "\n",
    "model = YOLO(\"yolov8n-seg.pt\")\n",
    "model.predict(\"images/dog.JPG\")"
   ]
  },
  {
   "cell_type": "code",
   "execution_count": 1,
   "id": "00959f81-e725-4a17-b2e8-193f71b5be57",
   "metadata": {},
   "outputs": [
    {
     "name": "stdout",
     "output_type": "stream",
     "text": [
      "Ultralytics YOLOv8.2.2 🚀 Python-3.11.7 torch-2.2.2 CPU (Intel Core(TM) i7-4770HQ 2.20GHz)\n",
      "YOLOv8n-cls summary (fused): 73 layers, 2715880 parameters, 0 gradients, 4.3 GFLOPs\n",
      "\n",
      "image 1/1 /Users/kacper/PycharmProjects/raim/images/dogo.jpg: 224x224 golden_retriever 0.72, Labrador_retriever 0.10, Saluki 0.04, cocker_spaniel 0.04, clumber 0.02, 30.1ms\n",
      "Speed: 17.3ms preprocess, 30.1ms inference, 0.1ms postprocess per image at shape (1, 3, 224, 224)\n",
      "Results saved to \u001b[1mruns/classify/predict2\u001b[0m\n",
      "💡 Learn more at https://docs.ultralytics.com/modes/predict\n"
     ]
    }
   ],
   "source": [
    "!yolo task=classify mode=predict model=yolov8n-cls.pt source=\"images/dogo.jpg\""
   ]
  },
  {
   "cell_type": "code",
   "execution_count": null,
   "id": "8180f908-8a95-4a5b-87fe-3a61c2f76c62",
   "metadata": {},
   "outputs": [],
   "source": []
  }
 ],
 "metadata": {
  "kernelspec": {
   "display_name": "Python 3 (ipykernel)",
   "language": "python",
   "name": "python3"
  },
  "language_info": {
   "codemirror_mode": {
    "name": "ipython",
    "version": 3
   },
   "file_extension": ".py",
   "mimetype": "text/x-python",
   "name": "python",
   "nbconvert_exporter": "python",
   "pygments_lexer": "ipython3",
   "version": "3.11.7"
  }
 },
 "nbformat": 4,
 "nbformat_minor": 5
}
